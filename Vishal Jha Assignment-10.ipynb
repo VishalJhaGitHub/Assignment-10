{
 "cells": [
  {
   "cell_type": "code",
   "execution_count": 3,
   "id": "ee3ae5a0-3c96-417e-8432-2ab10476669a",
   "metadata": {},
   "outputs": [
    {
     "name": "stdout",
     "output_type": "stream",
     "text": [
      "Ford Mustang\n",
      "150\n",
      "20\n"
     ]
    }
   ],
   "source": [
    "#1. Create a vehicle class with an init method having instance variables as name_of_vehicle, max_speed and average_of_vehicle.\n",
    "\n",
    "#Ans\n",
    "\n",
    "class Vehicle:\n",
    "    def __init__(self, name_of_vehicle, max_speed, average_of_vehicle):\n",
    "        self.name_of_vehicle = name_of_vehicle\n",
    "        self.max_speed = max_speed\n",
    "        self.average_of_vehicle = average_of_vehicle\n",
    "car = Vehicle(\"Ford Mustang\", 150, 20)\n",
    "print(car.name_of_vehicle)\n",
    "print(car.max_speed)         \n",
    "print(car.average_of_vehicle)"
   ]
  },
  {
   "cell_type": "code",
   "execution_count": 4,
   "id": "de3d14df-5dd4-43af-9d3c-b498ce531b2c",
   "metadata": {},
   "outputs": [
    {
     "name": "stdout",
     "output_type": "stream",
     "text": [
      "Ford Mustang has a seating capacity of 4 persons.\n"
     ]
    }
   ],
   "source": [
    "#2. Create a child class car from the vehicle class created in Que 1, which will inherit the vehicle class. Create a method named seating_capacity which takes capacity as an argument and returns the name of the vehicle and its seating capacity.\n",
    "\n",
    "#Ans\n",
    "\n",
    "class Car(Vehicle):\n",
    "    def seating_capacity(self, capacity):\n",
    "        return f\"{self.name_of_vehicle} has a seating capacity of {capacity} persons.\"\n",
    "car = Car(\"Ford Mustang\", 200, 15)\n",
    "print(car.seating_capacity(4))"
   ]
  },
  {
   "cell_type": "code",
   "execution_count": 7,
   "id": "56382a98-00e0-4d8c-8df9-6e2151e26d2e",
   "metadata": {},
   "outputs": [
    {
     "name": "stdout",
     "output_type": "stream",
     "text": [
      "25\n",
      "The square is blue in color.\n"
     ]
    }
   ],
   "source": [
    "#3. What is multiple inheritance? Write a python code to demonstrate multiple inheritance.\n",
    "\n",
    "#Ans\n",
    "\n",
    "#Multiple inheritance is a feature of some object-oriented programming languages, including Python, where a class can inherit from more than one parent class. In multiple inheritance, a class can have more than one immediate superclass, which means that it inherits data and behavior from multiple parent classes.\n",
    "\n",
    "#Example\n",
    "\n",
    "class Shape:\n",
    "    def area(self):\n",
    "        pass\n",
    "class Color:\n",
    "    def color(self):\n",
    "        pass\n",
    "class Square(Shape, Color):\n",
    "    def area(self, side):\n",
    "        return side * side\n",
    "    def color(self, color):\n",
    "        return f\"The square is {color} in color.\"\n",
    "square = Square()\n",
    "print(square.area(5))\n",
    "print(square.color(\"blue\"))"
   ]
  },
  {
   "cell_type": "code",
   "execution_count": 11,
   "id": "db75f450-d0ab-46f5-b7f8-9139a6d755a2",
   "metadata": {},
   "outputs": [
    {
     "name": "stdout",
     "output_type": "stream",
     "text": [
      "Vishal\n",
      "Sudh\n",
      "25\n",
      "Age must be a positive integer.\n",
      "30\n"
     ]
    }
   ],
   "source": [
    "#4. What are getter and setter in python? Create a class and create a getter and a setter method in this class.\n",
    "\n",
    "#Ans\n",
    "\n",
    "#In Python, getters and setters are methods that are used to get and set the values of an object's attributes, respectively. They are often used to control access to an object's data by providing a layer of abstraction between the object's data and external code that uses the object.\n",
    "\n",
    "#A getter is a method that gets the value of an attribute, while a setter is a method that sets the value of an attribute. The methods can be used to perform additional checks or computations before setting or getting the value of an attribute.\n",
    "\n",
    "#Example \n",
    "\n",
    "class Person:\n",
    "    def __init__(self, name, age):\n",
    "        self._name = name\n",
    "        self._age = age\n",
    "    def get_name(self):\n",
    "        return self._name\n",
    "    def set_name(self, name):\n",
    "        self._name = name\n",
    "    def get_age(self):\n",
    "        return self._age\n",
    "    def set_age(self, age):\n",
    "        if age > 0:\n",
    "            self._age = age\n",
    "        else:\n",
    "            print(\"Age must be a positive integer.\")\n",
    "person = Person(\"Vishal\", 25)\n",
    "print(person.get_name())\n",
    "person.set_name(\"Sudh\")\n",
    "print(person.get_name())\n",
    "print(person.get_age())\n",
    "person.set_age(-5)\n",
    "person.set_age(30)\n",
    "print(person.get_age())"
   ]
  },
  {
   "cell_type": "code",
   "execution_count": 13,
   "id": "e4830c4c-d2e4-4124-b5ed-22f634f1fdec",
   "metadata": {},
   "outputs": [
    {
     "name": "stdout",
     "output_type": "stream",
     "text": [
      "The animal makes a sound.\n",
      "The dog barks.\n",
      "The cat meows.\n"
     ]
    }
   ],
   "source": [
    "#5. What is method overriding in python? Write a python code to demonstrate method overriding.\n",
    "\n",
    "#Ans\n",
    "\n",
    "#Method overriding is a feature in object-oriented programming where a subclass provides a different implementation for a method that is already defined in its superclass. This means that the subclass replaces the implementation of the method inherited from its parent class with its own implementation.\n",
    "\n",
    "#Example\n",
    "\n",
    "class Animal:\n",
    "    def make_sound(self):\n",
    "        print(\"The animal makes a sound.\")\n",
    "class Dog(Animal):\n",
    "    def make_sound(self):\n",
    "        print(\"The dog barks.\")\n",
    "class Cat(Animal):\n",
    "    def make_sound(self):\n",
    "        print(\"The cat meows.\")\n",
    "# Create instances of the classes and call the make_sound method        \n",
    "animal = Animal()\n",
    "dog = Dog()\n",
    "cat = Cat()\n",
    "animal.make_sound()\n",
    "dog.make_sound()\n",
    "cat.make_sound()"
   ]
  },
  {
   "cell_type": "code",
   "execution_count": null,
   "id": "cdcefd3f-9b82-40fa-b9c8-0e3fcdcf81e9",
   "metadata": {},
   "outputs": [],
   "source": []
  }
 ],
 "metadata": {
  "kernelspec": {
   "display_name": "Python 3 (ipykernel)",
   "language": "python",
   "name": "python3"
  },
  "language_info": {
   "codemirror_mode": {
    "name": "ipython",
    "version": 3
   },
   "file_extension": ".py",
   "mimetype": "text/x-python",
   "name": "python",
   "nbconvert_exporter": "python",
   "pygments_lexer": "ipython3",
   "version": "3.10.8"
  }
 },
 "nbformat": 4,
 "nbformat_minor": 5
}
